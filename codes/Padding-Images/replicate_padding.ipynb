{
 "cells": [
  {
   "cell_type": "code",
   "execution_count": null,
   "metadata": {},
   "outputs": [],
   "source": [
    "def replicate_padding(image_grid, window_size):\n",
    "    grid_size = len(image_grid)  \n",
    "    padding = window_size // 2  \n",
    "    \n",
    "    new_grid_size = grid_size + 2 * padding\n",
    "\n",
    "    # Create a new grid filled with zeros\n",
    "    new_grid = [[0 for _ in range(new_grid_size)] for _ in range(new_grid_size)]\n",
    "\n",
    "    # Copy the original grid into the center of the new grid\n",
    "    for i in range(grid_size):\n",
    "        for j in range(grid_size):\n",
    "            new_grid[i + padding][j + padding] = image_grid[i][j]\n",
    "\n",
    "    # Fill the edges (replicate padding)\n",
    "    # Top and bottom rows\n",
    "    for j in range(padding, grid_size + padding):\n",
    "        for i in range(padding):\n",
    "            new_grid[i][j] = new_grid[padding][j]  # Top rows\n",
    "            new_grid[new_grid_size - 1 - i][j] = new_grid[grid_size + padding - 1][j]  # Bottom rows\n",
    "\n",
    "    # Left and right columns\n",
    "    for i in range(new_grid_size):\n",
    "        for j in range(padding):\n",
    "            new_grid[i][j] = new_grid[i][padding]  # Left columns\n",
    "            new_grid[i][new_grid_size - 1 - j] = new_grid[i][grid_size + padding - 1]  # Right columns\n",
    "\n",
    "    return new_grid"
   ]
  },
  {
   "cell_type": "code",
   "execution_count": 23,
   "metadata": {},
   "outputs": [],
   "source": [
    "image_grid = [\n",
    "    [0, 1, 2, 3, 4, 5, 6, 7],\n",
    "    [7, 6, 5, 4, 3, 2, 1, 0],\n",
    "    [1, 2, 3, 4, 5, 6, 7, 0],\n",
    "    [2, 3, 4, 5, 6, 7, 0, 1],\n",
    "    [3, 4, 5, 6, 7, 0, 1, 2],\n",
    "    [4, 5, 6, 7, 0, 1, 2, 3],\n",
    "    [5, 6, 7, 0, 1, 2, 3, 4],\n",
    "    [6, 7, 0, 1, 2, 3, 4, 5]\n",
    "]\n"
   ]
  },
  {
   "cell_type": "code",
   "execution_count": 24,
   "metadata": {},
   "outputs": [],
   "source": [
    "def print_grid(grid):\n",
    "    for row in grid:\n",
    "        print(row)\n"
   ]
  },
  {
   "cell_type": "code",
   "execution_count": 25,
   "metadata": {},
   "outputs": [
    {
     "name": "stdout",
     "output_type": "stream",
     "text": [
      "[0, 0, 1, 2, 3, 4, 5, 6, 7, 7]\n",
      "[0, 0, 1, 2, 3, 4, 5, 6, 7, 7]\n",
      "[7, 7, 6, 5, 4, 3, 2, 1, 0, 0]\n",
      "[1, 1, 2, 3, 4, 5, 6, 7, 0, 0]\n",
      "[2, 2, 3, 4, 5, 6, 7, 0, 1, 1]\n",
      "[3, 3, 4, 5, 6, 7, 0, 1, 2, 2]\n",
      "[4, 4, 5, 6, 7, 0, 1, 2, 3, 3]\n",
      "[5, 5, 6, 7, 0, 1, 2, 3, 4, 4]\n",
      "[6, 6, 7, 0, 1, 2, 3, 4, 5, 5]\n",
      "[6, 6, 7, 0, 1, 2, 3, 4, 5, 5]\n"
     ]
    }
   ],
   "source": [
    "window_size = 3  # 3x3 window\n",
    "padded_grid = replicate_padding(image_grid, window_size)\n",
    "print_grid(padded_grid)"
   ]
  },
  {
   "cell_type": "code",
   "execution_count": null,
   "metadata": {},
   "outputs": [],
   "source": []
  }
 ],
 "metadata": {
  "kernelspec": {
   "display_name": "base",
   "language": "python",
   "name": "python3"
  },
  "language_info": {
   "codemirror_mode": {
    "name": "ipython",
    "version": 3
   },
   "file_extension": ".py",
   "mimetype": "text/x-python",
   "name": "python",
   "nbconvert_exporter": "python",
   "pygments_lexer": "ipython3",
   "version": "3.11.5"
  }
 },
 "nbformat": 4,
 "nbformat_minor": 2
}
