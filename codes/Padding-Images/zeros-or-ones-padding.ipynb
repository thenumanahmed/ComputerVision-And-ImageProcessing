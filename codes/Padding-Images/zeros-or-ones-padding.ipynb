{
 "cells": [
  {
   "cell_type": "code",
   "execution_count": null,
   "metadata": {},
   "outputs": [],
   "source": [
    "def apply_padding(image_grid, window_size, padd_digit):\n",
    "    grid_size = len(image_grid)  \n",
    "    padding = window_size // 2 \n",
    "\n",
    "    new_grid_size = grid_size + 2 * padding\n",
    "\n",
    "    # Create a new grid filled with padd_digit\n",
    "    new_grid = [[padd_digit for _ in range(new_grid_size)] for _ in range(new_grid_size)]\n",
    "\n",
    "    # Copy the original grid into the center of the new grid\n",
    "    for i in range(grid_size):\n",
    "        for j in range(grid_size):\n",
    "            new_grid[i + padding][j + padding] = image_grid[i][j]\n",
    "\n",
    "    return new_grid"
   ]
  },
  {
   "cell_type": "code",
   "execution_count": 2,
   "metadata": {},
   "outputs": [],
   "source": [
    "image_grid = [\n",
    "    [0, 1, 2, 3, 4, 5, 6, 7],\n",
    "    [7, 6, 5, 4, 3, 2, 1, 0],\n",
    "    [1, 2, 3, 4, 5, 6, 7, 0],\n",
    "    [2, 3, 4, 5, 6, 7, 0, 1],\n",
    "    [3, 4, 5, 6, 7, 0, 1, 2],\n",
    "    [4, 5, 6, 7, 0, 1, 2, 3],\n",
    "    [5, 6, 7, 0, 1, 2, 3, 4],\n",
    "    [6, 7, 0, 1, 2, 3, 4, 5]\n",
    "]\n"
   ]
  },
  {
   "cell_type": "code",
   "execution_count": 3,
   "metadata": {},
   "outputs": [],
   "source": [
    "def print_grid(grid):\n",
    "    for row in grid:\n",
    "        print(row)\n"
   ]
  },
  {
   "cell_type": "code",
   "execution_count": 5,
   "metadata": {},
   "outputs": [
    {
     "name": "stdout",
     "output_type": "stream",
     "text": [
      "[0, 0, 0, 0, 0, 0, 0, 0, 0, 0]\n",
      "[0, 0, 1, 2, 3, 4, 5, 6, 7, 0]\n",
      "[0, 7, 6, 5, 4, 3, 2, 1, 0, 0]\n",
      "[0, 1, 2, 3, 4, 5, 6, 7, 0, 0]\n",
      "[0, 2, 3, 4, 5, 6, 7, 0, 1, 0]\n",
      "[0, 3, 4, 5, 6, 7, 0, 1, 2, 0]\n",
      "[0, 4, 5, 6, 7, 0, 1, 2, 3, 0]\n",
      "[0, 5, 6, 7, 0, 1, 2, 3, 4, 0]\n",
      "[0, 6, 7, 0, 1, 2, 3, 4, 5, 0]\n",
      "[0, 0, 0, 0, 0, 0, 0, 0, 0, 0]\n"
     ]
    }
   ],
   "source": [
    "window_size = 3  # 3x3 window\n",
    "padded_grid = apply_padding(image_grid, window_size, 0) # for zeros padding\n",
    "# padded_grid = apply_padding(image_grid, window_size, 1) # for ones padding\n",
    "print_grid(padded_grid)"
   ]
  },
  {
   "cell_type": "code",
   "execution_count": null,
   "metadata": {},
   "outputs": [],
   "source": []
  }
 ],
 "metadata": {
  "kernelspec": {
   "display_name": "base",
   "language": "python",
   "name": "python3"
  },
  "language_info": {
   "codemirror_mode": {
    "name": "ipython",
    "version": 3
   },
   "file_extension": ".py",
   "mimetype": "text/x-python",
   "name": "python",
   "nbconvert_exporter": "python",
   "pygments_lexer": "ipython3",
   "version": "3.11.5"
  }
 },
 "nbformat": 4,
 "nbformat_minor": 2
}
