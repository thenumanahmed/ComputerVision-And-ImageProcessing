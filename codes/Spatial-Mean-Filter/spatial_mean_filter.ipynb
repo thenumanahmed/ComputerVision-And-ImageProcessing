{
 "cells": [
  {
   "cell_type": "code",
   "execution_count": 1,
   "metadata": {
    "id": "oVnQU-Nag1n5"
   },
   "outputs": [],
   "source": [
    "image_grid = [\n",
    "    [104, 100, 108],\n",
    "    [99, 106, 98],\n",
    "    [95, 90, 85],\n",
    "]"
   ]
  },
  {
   "cell_type": "code",
   "execution_count": null,
   "metadata": {
    "id": "iGtHE2w9BnjL"
   },
   "outputs": [],
   "source": [
    "def getMask(n):\n",
    "  mask = [[ 1/(n*n) for _ in range(n)] for _ in range(n)]\n",
    "  return mask\n",
    "\n",
    "# for n=3\n",
    "# [ [1/9, 1/9, 1/9],\n",
    "#   [1/9, 1/9, 1/9],\n",
    "#   [1/9, 1/9, 1/9] ]"
   ]
  },
  {
   "cell_type": "code",
   "execution_count": 3,
   "metadata": {
    "id": "2E-GptgoC7g-"
   },
   "outputs": [],
   "source": [
    "mask = getMask(3)"
   ]
  },
  {
   "cell_type": "code",
   "execution_count": null,
   "metadata": {
    "id": "aH_4tJStBqvO"
   },
   "outputs": [],
   "source": [
    "def apply_filter(grid, mask):\n",
    "  m,n = len(grid), len(grid[0])\n",
    "  mask_size = len(mask)\n",
    "\n",
    "  # expanding the image\n",
    "  new_m = m + (mask_size - 1)\n",
    "  new_n = n + (mask_size - 1)\n",
    "  padding = mask_size // 2 # integer division\n",
    "\n",
    "  expanded_grid = [[0 for _ in range(new_n)] for _ in range(new_m) ] # will contain copy of previous\n",
    "  # output_grid = [[0 for _ in range(new_n)] for _ in range(new_m) ] # will contain the final filtered image\n",
    "  final_grid = [[0 for _ in range(n)] for _ in range(m) ] # reduced image for original image size\n",
    "\n",
    "  # copy into expanded image\n",
    "  for i in range(m):\n",
    "    for j in range(n):\n",
    "      expanded_grid[i+padding][j+padding] = grid[i][j]\n",
    "\n",
    "  # applying filter\n",
    "  for i in range(padding , (new_m-padding)):\n",
    "    for j in range(padding, (new_n-padding)):\n",
    "      temp = 0\n",
    "      for s in range(-padding , padding+1):\n",
    "        for t in range(-padding , padding+1):\n",
    "          temp += mask[s+padding][t+padding] * expanded_grid[i+s][j+t]\n",
    "\n",
    "      final_grid[i-padding][j-padding] = int(temp)\n",
    "\n",
    "  return final_grid\n"
   ]
  },
  {
   "cell_type": "code",
   "execution_count": 7,
   "metadata": {
    "colab": {
     "base_uri": "https://localhost:8080/"
    },
    "id": "SUtUIh-dBtBL",
    "outputId": "2eb6ff5a-73ee-49f9-e3ab-9b84c6d29919"
   },
   "outputs": [
    {
     "data": {
      "text/plain": [
       "[[45, 68, 45], [66, 98, 65], [43, 63, 42]]"
      ]
     },
     "execution_count": 7,
     "metadata": {},
     "output_type": "execute_result"
    }
   ],
   "source": [
    "apply_filter(image_grid, mask)"
   ]
  },
  {
   "cell_type": "code",
   "execution_count": null,
   "metadata": {
    "id": "-X9Csf5LCWJX"
   },
   "outputs": [],
   "source": []
  }
 ],
 "metadata": {
  "colab": {
   "provenance": []
  },
  "kernelspec": {
   "display_name": "Python 3",
   "name": "python3"
  },
  "language_info": {
   "name": "python"
  }
 },
 "nbformat": 4,
 "nbformat_minor": 0
}
